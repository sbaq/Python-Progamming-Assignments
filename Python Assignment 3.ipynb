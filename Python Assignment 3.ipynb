{
 "cells": [
  {
   "cell_type": "markdown",
   "metadata": {},
   "source": [
    "1. Make a calculator using Python with addition , subtraction , multiplication , division and power. \n"
   ]
  },
  {
   "cell_type": "code",
   "execution_count": 6,
   "metadata": {},
   "outputs": [
    {
     "name": "stdout",
     "output_type": "stream",
     "text": [
      "Enter a first value: 129\n",
      "Enter a second value: 9\n",
      "\n",
      "Type an operator which would you want to use for calculation.\n",
      "For addition, type '+'\n",
      "For subtraction, type '-'\n",
      "For multiplication, type '*'\n",
      "For division, type '/'\n",
      "For power operation, type '**'\n",
      "\n",
      "Operator: -\n",
      "\n",
      "129 - 9 = 120\n"
     ]
    }
   ],
   "source": [
    "first_value = int(input(\"Enter a first value: \"))\n",
    "second_value = int(input(\"Enter a second value: \"))\n",
    "\n",
    "print(\"\\nType an operator which would you want to use for calculation.\")\n",
    "print(\"For addition, type '+'\")\n",
    "print(\"For subtraction, type '-'\")\n",
    "print(\"For multiplication, type '*'\")\n",
    "print(\"For division, type '/'\")\n",
    "print(\"For power operation, type '**'\")\n",
    "\n",
    "operator = input(\"\\nOperator: \")\n",
    "\n",
    "print()\n",
    "\n",
    "if operator == '+':\n",
    "    print(\"{} + {} = {}\".format(first_value, second_value, first_value + second_value))\n",
    "elif operator == '-':\n",
    "    print(\"{} - {} = {}\".format(first_value, second_value, first_value - second_value))\n",
    "elif operator == '*':\n",
    "    print(\"{} * {} = {}\".format(first_value, second_value, first_value * second_value))\n",
    "elif operator == '/':\n",
    "    print(\"{} / {} = {}\".format(first_value, second_value, first_value / second_value))\n",
    "else:\n",
    "    print(\"{} ** {} = {}\".format(first_value, second_value, first_value ** second_value))\n",
    "\n",
    "\n"
   ]
  },
  {
   "cell_type": "code",
   "execution_count": null,
   "metadata": {},
   "outputs": [],
   "source": []
  },
  {
   "cell_type": "markdown",
   "metadata": {},
   "source": [
    "2. Write a program to check if there is any numeric value in list using for loop "
   ]
  },
  {
   "cell_type": "code",
   "execution_count": 39,
   "metadata": {},
   "outputs": [
    {
     "name": "stdout",
     "output_type": "stream",
     "text": [
      "[99, 47, 10] are numeric values in the list of total 11 values.\n"
     ]
    }
   ],
   "source": [
    "ordinary_list = ['Python', 'SQL', 'R', 99, 'Swift', 47, 'XML', 'JavaScript', 'Rust', 10, 'C#']\n",
    "\n",
    "\n",
    "\n",
    "print(\"{} are numeric values in the list of total {} values.\".format(\n",
    "      [l for l in ordinary_list if type(l) is int] , \n",
    "      len(ordinary_list)))\n"
   ]
  },
  {
   "cell_type": "code",
   "execution_count": null,
   "metadata": {},
   "outputs": [],
   "source": []
  },
  {
   "cell_type": "markdown",
   "metadata": {},
   "source": [
    "3. Write a program to identify duplicate values from list "
   ]
  },
  {
   "cell_type": "code",
   "execution_count": 2,
   "metadata": {},
   "outputs": [
    {
     "name": "stdout",
     "output_type": "stream",
     "text": [
      "There are total 19 values in the list which are these:\n",
      "['P', 'A', 'E', 'Y', 'C', 'T', 'P', 'H', 'S', 'X', 'O', 'N', 'Y', 'O', 'P', 'O', 'N', 'H', 'T']\n",
      "\n",
      "3 times 'P' present in the alpha list.\n",
      "2 times 'Y' present in the alpha list.\n",
      "2 times 'T' present in the alpha list.\n",
      "2 times 'H' present in the alpha list.\n",
      "3 times 'O' present in the alpha list.\n",
      "2 times 'N' present in the alpha list.\n",
      "\n",
      "These 6 are duplicate values in the list of 19 values:\n",
      "['P', 'Y', 'T', 'H', 'O', 'N']\n"
     ]
    }
   ],
   "source": [
    "alpha_list = ['P', 'A', 'E', 'Y', 'C', 'T', 'P', 'H', 'S', 'X', \n",
    "              'O', 'N', 'Y', 'O', 'P', 'O', 'N', 'H', 'T']\n",
    "\n",
    "from collections import Counter\n",
    "\n",
    "count_values = Counter(alpha_list)\n",
    "\n",
    "duplicate_values = []\n",
    "\n",
    "print(\"There are total\" , len(alpha_list) , \"values in the list which are these:\\n\" + str(alpha_list))\n",
    "print()\n",
    "\n",
    "for key,val in count_values.items():\n",
    "    if val > 1:\n",
    "        print(val, \"times '\" + str(key) + \"' present in the alpha list.\")\n",
    "        duplicate_values.append(key)\n",
    "        \n",
    "print(\"\\nThese\" , len(duplicate_values) , \"are duplicate values in the list of\",  \n",
    "      len(alpha_list) , \"values:\\n\" + str(duplicate_values))"
   ]
  },
  {
   "cell_type": "code",
   "execution_count": null,
   "metadata": {},
   "outputs": [],
   "source": []
  },
  {
   "cell_type": "markdown",
   "metadata": {},
   "source": [
    "4. Write a Python script to add a key to a dictionary "
   ]
  },
  {
   "cell_type": "code",
   "execution_count": 1,
   "metadata": {},
   "outputs": [
    {
     "name": "stdout",
     "output_type": "stream",
     "text": [
      "How many keys would you want to enter in a dictionary? 4\n",
      "\n",
      "Key should be in integer and value in string.\n",
      "\n",
      "Add a key to a dictionary: 7\n",
      "Add a value for a new key: Seven\n",
      "\n",
      "Add a key to a dictionary: 1\n",
      "Add a value for a new key: oNe\n",
      "\n",
      "Add a key to a dictionary: 8\n",
      "Add a value for a new key: EIGHT\n",
      "\n",
      "Add a key to a dictionary: 2\n",
      "Add a value for a new key: two\n",
      "\n",
      "Dictionary: {7: 'seven', 1: 'one', 8: 'eight', 2: 'two'}\n"
     ]
    }
   ],
   "source": [
    "number_of_keys = int(input(\"How many keys would you want to enter in a dictionary? \"))\n",
    "\n",
    "ordinary_dict = {}    \n",
    "\n",
    "print(\"\\nKey should be in integer and value in string.\")\n",
    "\n",
    "for i in range(number_of_keys):\n",
    "    key = int(input(\"\\nAdd a key to a dictionary: \"))\n",
    "    val = input(\"Add a value for a new key: \").lower()\n",
    "    ordinary_dict.update({key : val})\n",
    "\n",
    "print(\"\\nDictionary:\" , ordinary_dict)"
   ]
  },
  {
   "cell_type": "code",
   "execution_count": null,
   "metadata": {},
   "outputs": [],
   "source": []
  },
  {
   "cell_type": "markdown",
   "metadata": {},
   "source": [
    "5. Write a Python program to sum all the numeric items in a dictionary \n"
   ]
  },
  {
   "cell_type": "code",
   "execution_count": 26,
   "metadata": {},
   "outputs": [
    {
     "name": "stdout",
     "output_type": "stream",
     "text": [
      "These dict_keys([74, 43, 1]) are numeric keys and Sum of all numeric keys: 118\n",
      "\n",
      "These dict_values([26, 100, 59, 10]) are numeric values and Sum of all numeric values: 195\n"
     ]
    }
   ],
   "source": [
    "mix_dict = {'a': 26, 'b': 'banana', 74: 'c', 'd': 100, 'e': 'egg', \n",
    "            43: 'f', 'g': 'grappes', 'h': 59, 'i': 'ice', 1 : 10}\n",
    "\n",
    "numeric_keys = {}\n",
    "\n",
    "numeric_values = {}\n",
    "\n",
    "for key,val in mix_dict.items():\n",
    "    if type(key) is int:\n",
    "        numeric_keys.update({key : val})\n",
    "    if type(val) is int:\n",
    "        numeric_values.update({key : val})\n",
    "        \n",
    "print(\"These\" , numeric_keys.keys() , \"are numeric keys and Sum of all numeric keys:\" \n",
    "      , sum(numeric_keys.keys()))\n",
    "print(\"\\nThese\" , numeric_values.values() , \"are numeric values and Sum of all numeric values:\" \n",
    "      , sum(numeric_values.values()))"
   ]
  },
  {
   "cell_type": "code",
   "execution_count": null,
   "metadata": {},
   "outputs": [],
   "source": [
    "        \n"
   ]
  },
  {
   "cell_type": "markdown",
   "metadata": {},
   "source": [
    "6. Write a Python script to check if a given key already exists in a dictionary."
   ]
  },
  {
   "cell_type": "code",
   "execution_count": 1,
   "metadata": {},
   "outputs": [
    {
     "name": "stdout",
     "output_type": "stream",
     "text": [
      "Enter a key to check it is exist or not: p\n",
      "\n",
      "'P' is exist in a dictionary. Its value is 'Python'\n"
     ]
    }
   ],
   "source": [
    "pro_lang_dict = {'P': 'Python', 'S' : 'Scala', 'H': 'Hadoop', 'R': 'Rust', 'J': 'Java'}\n",
    "\n",
    "check_key = input(\"Enter a key to check it is exist or not: \").upper()\n",
    "\n",
    "if check_key in pro_lang_dict.keys():\n",
    "    print(\"\\n'{}' is exist in a dictionary. Its value is '{}'\".format\n",
    "          (check_key , pro_lang_dict[check_key]))\n",
    "else:\n",
    "    print(\"\\n'{}' is not exist in a dictionary.\".format(check_key))"
   ]
  },
  {
   "cell_type": "code",
   "execution_count": null,
   "metadata": {},
   "outputs": [],
   "source": []
  },
  {
   "cell_type": "code",
   "execution_count": null,
   "metadata": {},
   "outputs": [],
   "source": []
  },
  {
   "cell_type": "code",
   "execution_count": null,
   "metadata": {},
   "outputs": [],
   "source": []
  }
 ],
 "metadata": {
  "kernelspec": {
   "display_name": "Python 3",
   "language": "python",
   "name": "python3"
  },
  "language_info": {
   "codemirror_mode": {
    "name": "ipython",
    "version": 3
   },
   "file_extension": ".py",
   "mimetype": "text/x-python",
   "name": "python",
   "nbconvert_exporter": "python",
   "pygments_lexer": "ipython3",
   "version": "3.7.1"
  }
 },
 "nbformat": 4,
 "nbformat_minor": 2
}
