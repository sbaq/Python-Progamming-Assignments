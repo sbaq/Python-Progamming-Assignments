{
 "cells": [
  {
   "cell_type": "markdown",
   "metadata": {},
   "source": [
    "1. Write a Python program to print the following string in a specific format."
   ]
  },
  {
   "cell_type": "code",
   "execution_count": 16,
   "metadata": {},
   "outputs": [
    {
     "name": "stdout",
     "output_type": "stream",
     "text": [
      "Twinkle, twinkle, little star, \n",
      "\tHow I wonder what you are! \n",
      "\t\tUp above the world so high, \n",
      "\t\tLike a diamond in the sky. \n",
      "Twinkle, twinkle, little star, \n",
      "\tHow I wonder what you are\n"
     ]
    }
   ],
   "source": [
    "print(\"Twinkle, twinkle, little star, \\n\\tHow I wonder what you are! \\n\\t\\tUp above the world so high, \\n\\t\\tLike a diamond in the sky. \\nTwinkle, twinkle, little star, \\n\\tHow I wonder what you are\")"
   ]
  },
  {
   "cell_type": "markdown",
   "metadata": {},
   "source": []
  },
  {
   "cell_type": "markdown",
   "metadata": {},
   "source": [
    "2. Write a Python program to get the Python version you are using"
   ]
  },
  {
   "cell_type": "code",
   "execution_count": 17,
   "metadata": {},
   "outputs": [],
   "source": [
    "import sys"
   ]
  },
  {
   "cell_type": "code",
   "execution_count": 24,
   "metadata": {},
   "outputs": [
    {
     "name": "stdout",
     "output_type": "stream",
     "text": [
      "Python version which I am using:\n",
      "3.7.1 (default, Dec 10 2018, 22:54:23) [MSC v.1915 64 bit (AMD64)]\n"
     ]
    }
   ],
   "source": [
    "print(\"Python version which I am using:\\n\" + sys.version)"
   ]
  },
  {
   "cell_type": "code",
   "execution_count": null,
   "metadata": {},
   "outputs": [],
   "source": []
  },
  {
   "cell_type": "markdown",
   "metadata": {},
   "source": [
    "3. Write a Python program to display the current date and time."
   ]
  },
  {
   "cell_type": "code",
   "execution_count": 28,
   "metadata": {},
   "outputs": [],
   "source": [
    "import datetime"
   ]
  },
  {
   "cell_type": "code",
   "execution_count": 68,
   "metadata": {},
   "outputs": [
    {
     "name": "stdout",
     "output_type": "stream",
     "text": [
      "Current date is: |Nov 05, 2019|\n",
      "\n",
      "Current day is: |Tuesday|\n",
      "\n",
      "Current time is: |03:10:38 AM|\n"
     ]
    }
   ],
   "source": [
    "current = datetime.datetime.now()\n",
    "\n",
    "print(\"Current date is: |\" + current.strftime(\"%b %d, %Y\") + \"|\")\n",
    "print(\"\\nCurrent day is: |\" + current.strftime(\"%A\") + \"|\")\n",
    "print(\"\\nCurrent time is: |\" + current.strftime(\"%X %p\") + \"|\")"
   ]
  },
  {
   "cell_type": "code",
   "execution_count": null,
   "metadata": {},
   "outputs": [],
   "source": []
  },
  {
   "cell_type": "markdown",
   "metadata": {},
   "source": [
    "4. Write a Python program which accepts the radius of a circle from the user and compute the area."
   ]
  },
  {
   "cell_type": "code",
   "execution_count": 84,
   "metadata": {},
   "outputs": [
    {
     "name": "stdout",
     "output_type": "stream",
     "text": [
      "Enter a radius of circle: 2.3\n",
      "\n",
      "Area of a circle is: 16.619\n"
     ]
    }
   ],
   "source": [
    "radius = float(input(\"Enter a radius of circle: \"))\n",
    "\n",
    "pi = 3.14159\n",
    "area_of_circle = pi * (radius*radius)\n",
    "\n",
    "print(\"\\nArea of a circle is:\" , round(area_of_circle, 3))"
   ]
  },
  {
   "cell_type": "code",
   "execution_count": null,
   "metadata": {},
   "outputs": [],
   "source": []
  },
  {
   "cell_type": "markdown",
   "metadata": {},
   "source": [
    "5. Write a Python program which accepts the user's first and last name and print them in reverse order with a space between them."
   ]
  },
  {
   "cell_type": "code",
   "execution_count": 97,
   "metadata": {},
   "outputs": [
    {
     "name": "stdout",
     "output_type": "stream",
     "text": [
      "Enter your first name: syed\n",
      "Enter your last name: bilal\n",
      "\n",
      "Your name is: Syed Bilal\n",
      "\n",
      "Your name in reverse order is: Bilal Syed\n"
     ]
    }
   ],
   "source": [
    "first_name = input(\"Enter your first name: \").title()\n",
    "last_name = input(\"Enter your last name: \").title()\n",
    "\n",
    "print(\"\\nYour name is: \" + first_name + \" \" + last_name)\n",
    "print(\"\\nYour name in reverse order is: \" + last_name + \" \" + first_name)"
   ]
  },
  {
   "cell_type": "code",
   "execution_count": null,
   "metadata": {},
   "outputs": [],
   "source": []
  },
  {
   "cell_type": "markdown",
   "metadata": {},
   "source": [
    "6. Write a python program which takes two inputs from user and print them addition. "
   ]
  },
  {
   "cell_type": "code",
   "execution_count": 100,
   "metadata": {},
   "outputs": [
    {
     "name": "stdout",
     "output_type": "stream",
     "text": [
      "Enter a value for a: 13\n",
      "Enter a value for b: 8\n",
      "\n",
      "Addition of a and b is: 21\n"
     ]
    }
   ],
   "source": [
    "a = int(input(\"Enter a value for a: \"))\n",
    "b = int(input(\"Enter a value for b: \"))\n",
    "\n",
    "print(\"\\nAddition of a and b is:\" , a + b)"
   ]
  },
  {
   "cell_type": "code",
   "execution_count": null,
   "metadata": {},
   "outputs": [],
   "source": []
  }
 ],
 "metadata": {
  "kernelspec": {
   "display_name": "Python 3",
   "language": "python",
   "name": "python3"
  },
  "language_info": {
   "codemirror_mode": {
    "name": "ipython",
    "version": 3
   },
   "file_extension": ".py",
   "mimetype": "text/x-python",
   "name": "python",
   "nbconvert_exporter": "python",
   "pygments_lexer": "ipython3",
   "version": "3.7.1"
  }
 },
 "nbformat": 4,
 "nbformat_minor": 2
}
