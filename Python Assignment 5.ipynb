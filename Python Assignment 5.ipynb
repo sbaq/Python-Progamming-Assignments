{
 "cells": [
  {
   "cell_type": "markdown",
   "metadata": {},
   "source": [
    "Question1: \n",
    "    \n",
    "Write a Python function to calculate the factorial of a number (a non-negative integer). The function accepts the number as an argument. \n"
   ]
  },
  {
   "cell_type": "code",
   "execution_count": 34,
   "metadata": {},
   "outputs": [],
   "source": [
    "def factorial(num):\n",
    "    \n",
    "    fact = 1\n",
    "    \n",
    "    if num > 1:\n",
    "        \n",
    "        n = num\n",
    "        \n",
    "        while n > 0:\n",
    "            fact = fact * n\n",
    "            n = n - 1\n",
    "            \n",
    "        print(\"Factorial of {}! is {}.\".format(num, fact))\n",
    "        \n",
    "    elif num == 0 or num == 1:\n",
    "        print(\"Factorial of {} is 1.\".format(num))\n",
    "        \n",
    "    else:\n",
    "        print(\"Negative number is not allowed.\")"
   ]
  },
  {
   "cell_type": "code",
   "execution_count": 46,
   "metadata": {},
   "outputs": [
    {
     "name": "stdout",
     "output_type": "stream",
     "text": [
      "Factorial of 4! is 24.\n"
     ]
    }
   ],
   "source": [
    "factorial(4)"
   ]
  },
  {
   "cell_type": "code",
   "execution_count": null,
   "metadata": {},
   "outputs": [],
   "source": []
  },
  {
   "cell_type": "markdown",
   "metadata": {},
   "source": [
    "Question2:\n",
    "    \n",
    "Write a Python function that accepts a string and calculate the number of upper case letters and lower case letters.\n"
   ]
  },
  {
   "cell_type": "code",
   "execution_count": 29,
   "metadata": {},
   "outputs": [
    {
     "name": "stdout",
     "output_type": "stream",
     "text": [
      "Enter a word or sentence: pythON\n",
      "\n",
      "There are 2 upper case letters and 4 lower case letters.\n"
     ]
    }
   ],
   "source": [
    "def lettersCounter():\n",
    "\n",
    "    string = input(\"Enter a word or sentence: \")\n",
    "\n",
    "    upperLetters = []\n",
    "    lowerLetters = []\n",
    "\n",
    "    for s in string:\n",
    "        if s.isupper():\n",
    "            upperLetters.append(s)\n",
    "        elif s.islower():\n",
    "            lowerLetters.append(s)\n",
    "        else:\n",
    "            pass\n",
    "        \n",
    "    if len(upperLetters) == 0:\n",
    "        print(\"\\nThere is no upper case letter. All {} are lower case letters.\".\n",
    "              format(len(lowerLetters)))\n",
    "    elif len(lowerLetters) == 0:\n",
    "        print(\"\\nThere is no lower case letter. All {} are upper case letters.\".\n",
    "              format(len(upperLetters)))\n",
    "    else:\n",
    "        print(\"\\nThere are {} upper case letters and {} lower case letters.\".\n",
    "              format(len(upperLetters), len(lowerLetters))) \n",
    "    \n",
    "lettersCounter()"
   ]
  },
  {
   "cell_type": "code",
   "execution_count": null,
   "metadata": {},
   "outputs": [],
   "source": []
  },
  {
   "cell_type": "markdown",
   "metadata": {},
   "source": [
    "Question3:\n",
    "    \n",
    "Write a Python function to print the even numbers from a given list. \n"
   ]
  },
  {
   "cell_type": "code",
   "execution_count": 45,
   "metadata": {},
   "outputs": [
    {
     "name": "stdout",
     "output_type": "stream",
     "text": [
      "There are total 14 numbers in the list.\n",
      "These 8 are even numbers: [10, 78, 66, 40, 1000, 72, 62, 30].\n"
     ]
    }
   ],
   "source": [
    "def numbers():\n",
    "    \n",
    "    listOfNumbers = [10, 21, 99, 78, 66, 40, 1000, 53, 999, 72, 62, 55, 30, 549]\n",
    "    \n",
    "    even = []\n",
    "    \n",
    "    for num in listOfNumbers:\n",
    "        if num % 2 == 0:\n",
    "            even.append(num)\n",
    "        else:\n",
    "            pass\n",
    "        \n",
    "    print(\"There are total {} numbers in the list.\".format(len(listOfNumbers)))\n",
    "    print(\"These {} are even numbers: {}.\".format(len(even), even))\n",
    "\n",
    "numbers()"
   ]
  },
  {
   "cell_type": "code",
   "execution_count": null,
   "metadata": {},
   "outputs": [],
   "source": []
  },
  {
   "cell_type": "markdown",
   "metadata": {},
   "source": [
    "Question4:\n",
    "    \n",
    "Write a Python function that checks whether a passed string is palindrome or not. Note: A palindrome is a word, phrase, or sequence that reads the same backward as forward, e.g., madam \n"
   ]
  },
  {
   "cell_type": "code",
   "execution_count": 97,
   "metadata": {},
   "outputs": [
    {
     "name": "stdout",
     "output_type": "stream",
     "text": [
      "Enter a word or phrase to check is palindrome or not? Rats Live on No eVil sTar\n",
      "\n",
      "True. 'rats live on no evil star' is palindrome.\n"
     ]
    }
   ],
   "source": [
    "def palindrome():\n",
    "    \n",
    "    string = input(\"Enter a word or phrase to check is palindrome or not? \").lower()\n",
    "    \n",
    "    reverse = string[::-1]\n",
    "    \n",
    "    if string == reverse:\n",
    "        print(\"\\nTrue. '{}' is palindrome.\".format(string))\n",
    "    else:\n",
    "        print(\"\\nFalse. '{}' is not palindrome.\".format(string))\n",
    "    \n",
    "palindrome()"
   ]
  },
  {
   "cell_type": "code",
   "execution_count": null,
   "metadata": {},
   "outputs": [],
   "source": []
  },
  {
   "cell_type": "markdown",
   "metadata": {},
   "source": [
    "Question5:\n",
    "    \n",
    "Write a Python function that takes a number as a parameter and check the number is prime or not. \n"
   ]
  },
  {
   "cell_type": "code",
   "execution_count": 123,
   "metadata": {},
   "outputs": [],
   "source": [
    "def checkPrime(number = 3):\n",
    "    \n",
    "    if number > 2:\n",
    "        for n in range(2, number):\n",
    "            \n",
    "            if number % n != 0:\n",
    "                print(\"{} is a prime number.\".format(number))\n",
    "                break\n",
    "            else:\n",
    "                print(\"{} is not a prime number.\".format(number))\n",
    "                break\n",
    "\n",
    "    else:\n",
    "        print(\"Smaller than 3 is not allowed.\")"
   ]
  },
  {
   "cell_type": "code",
   "execution_count": 124,
   "metadata": {},
   "outputs": [
    {
     "name": "stdout",
     "output_type": "stream",
     "text": [
      "3 is a prime number.\n"
     ]
    }
   ],
   "source": [
    "checkPrime()"
   ]
  },
  {
   "cell_type": "code",
   "execution_count": 126,
   "metadata": {},
   "outputs": [
    {
     "name": "stdout",
     "output_type": "stream",
     "text": [
      "74 is not a prime number.\n"
     ]
    }
   ],
   "source": [
    "checkPrime(74)"
   ]
  },
  {
   "cell_type": "code",
   "execution_count": null,
   "metadata": {},
   "outputs": [],
   "source": []
  },
  {
   "cell_type": "markdown",
   "metadata": {},
   "source": [
    "Question6:\n",
    "    \n",
    "Suppose a customer is shopping in a market and you need to print all the items which user bought from market. \n",
    "Write a function which accepts the multiple arguments of user shopping list and print all the items which user bought from market.\n"
   ]
  },
  {
   "cell_type": "code",
   "execution_count": 19,
   "metadata": {},
   "outputs": [],
   "source": [
    "def shoppingList(*marketItems, customerName = 'Bilal'):\n",
    "    \n",
    "    for item in marketItems:\n",
    "        print(\"{} bought {} from market.\".format(customerName, item))\n",
    "    "
   ]
  },
  {
   "cell_type": "code",
   "execution_count": 20,
   "metadata": {},
   "outputs": [
    {
     "name": "stdout",
     "output_type": "stream",
     "text": [
      "Bilal bought fruits from market.\n",
      "Bilal bought vegetables from market.\n",
      "Bilal bought meet from market.\n"
     ]
    }
   ],
   "source": [
    "shoppingList(\"fruits\", \"vegetables\", \"meet\")"
   ]
  },
  {
   "cell_type": "code",
   "execution_count": null,
   "metadata": {},
   "outputs": [],
   "source": []
  },
  {
   "cell_type": "code",
   "execution_count": null,
   "metadata": {},
   "outputs": [],
   "source": []
  }
 ],
 "metadata": {
  "kernelspec": {
   "display_name": "Python 3",
   "language": "python",
   "name": "python3"
  },
  "language_info": {
   "codemirror_mode": {
    "name": "ipython",
    "version": 3
   },
   "file_extension": ".py",
   "mimetype": "text/x-python",
   "name": "python",
   "nbconvert_exporter": "python",
   "pygments_lexer": "ipython3",
   "version": "3.7.1"
  }
 },
 "nbformat": 4,
 "nbformat_minor": 2
}
