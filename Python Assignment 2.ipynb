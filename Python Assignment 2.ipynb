{
 "cells": [
  {
   "cell_type": "markdown",
   "metadata": {},
   "source": [
    "1. Write a program which takes 5 inputs from user for different subject’s marks, total it and generate mark sheet using grades. \n"
   ]
  },
  {
   "cell_type": "code",
   "execution_count": 31,
   "metadata": {},
   "outputs": [
    {
     "name": "stdout",
     "output_type": "stream",
     "text": [
      "Enter the marks which you have obtained in five different exams:\n",
      "\n",
      "Python marks: 45\n",
      "SQL marks: 76\n",
      "JavaScript marks: 84\n",
      "Swift marks: 56\n",
      "Rust marks: 68\n",
      "\n",
      "**********Mark Sheet**********\n",
      "\n",
      "Total marks: 500\n",
      "Obtained marks: 329\n",
      "Percentage: 65.8\n",
      "Grade: B\n"
     ]
    }
   ],
   "source": [
    "print(\"Enter the marks which you have obtained in five different exams:\\n\")\n",
    "python = int(input(\"Python marks: \"))\n",
    "sql = int(input(\"SQL marks: \"))\n",
    "javascript = int(input(\"JavaScript marks: \"))\n",
    "swift = int(input(\"Swift marks: \"))\n",
    "rust = int(input(\"Rust marks: \"))\n",
    "\n",
    "total_marks = 500\n",
    "subject_marks = [python, sql, javascript, swift, rust]\n",
    "obtained_marks = sum(subject_marks)\n",
    "percentage = round(((obtained_marks / total_marks) * 100) , 2)\n",
    "\n",
    "\n",
    "print(\"\\n**********Mark Sheet**********\\n\")\n",
    "print(\"Total marks:\" , total_marks)\n",
    "print(\"Obtained marks:\" , obtained_marks)\n",
    "print(\"Percentage:\" , percentage)\n",
    "\n",
    "\n",
    "if percentage >= 70:\n",
    "    print(\"Grade: A\")\n",
    "elif percentage >= 60:\n",
    "    print(\"Grade: B\")\n",
    "elif percentage >= 50:\n",
    "    print(\"Grade: C\")\n",
    "elif percentage >= 40:\n",
    "    print(\"Grade: D\")\n",
    "else:\n",
    "    print(\"Fail\")"
   ]
  },
  {
   "cell_type": "code",
   "execution_count": null,
   "metadata": {},
   "outputs": [],
   "source": []
  },
  {
   "cell_type": "markdown",
   "metadata": {},
   "source": [
    "2. Write a program which take input from user and identify that the given number is even or odd? \n"
   ]
  },
  {
   "cell_type": "code",
   "execution_count": 33,
   "metadata": {},
   "outputs": [
    {
     "name": "stdout",
     "output_type": "stream",
     "text": [
      "Enter any number: 20\n",
      "\n",
      "20 is an even number.\n"
     ]
    }
   ],
   "source": [
    "num = int(input(\"Enter any number: \"))\n",
    "\n",
    "print()\n",
    "\n",
    "if num % 2 == 0:\n",
    "    print(num , \"is an even number.\")\n",
    "else:\n",
    "    print(num, \"is an odd number.\")"
   ]
  },
  {
   "cell_type": "code",
   "execution_count": null,
   "metadata": {},
   "outputs": [],
   "source": []
  },
  {
   "cell_type": "markdown",
   "metadata": {},
   "source": [
    "3. Write a program which print the length of the list."
   ]
  },
  {
   "cell_type": "code",
   "execution_count": 34,
   "metadata": {},
   "outputs": [
    {
     "name": "stdout",
     "output_type": "stream",
     "text": [
      "Length of the list is: 6\n"
     ]
    }
   ],
   "source": [
    "names_list = [\"Bilal\", \"Osama\", \"Hamza\", \"Mohsin\", \"Bazan\", \"Zeeshan\"]\n",
    "\n",
    "print(\"Length of the list is: \" + str(len(names_list)))"
   ]
  },
  {
   "cell_type": "code",
   "execution_count": null,
   "metadata": {},
   "outputs": [],
   "source": []
  },
  {
   "cell_type": "markdown",
   "metadata": {},
   "source": [
    "4. Write a Python program to sum all the numeric items in a list."
   ]
  },
  {
   "cell_type": "code",
   "execution_count": 35,
   "metadata": {},
   "outputs": [
    {
     "name": "stdout",
     "output_type": "stream",
     "text": [
      "Sum of all items of the list: 352\n"
     ]
    }
   ],
   "source": [
    "ordinary_list = [15, 97, 8, 46, 30, 22, 134]\n",
    "\n",
    "print(\"Sum of all items of the list: \" + str(sum(ordinary_list)))"
   ]
  },
  {
   "cell_type": "code",
   "execution_count": 33,
   "metadata": {},
   "outputs": [
    {
     "name": "stdout",
     "output_type": "stream",
     "text": [
      "List: [15, 97, 'apple', 8, 'mango', 46, 'orange', '10', 'banana', 30, 22, 'strawberry', 134]\n",
      "\n",
      "Sum of all integers in the list: 352\n"
     ]
    }
   ],
   "source": [
    "ordinary_list = [15, 97, \"apple\", 8, \"mango\", 46, \"orange\", \"10\", \"banana\", 30, 22, \"strawberry\", 134]\n",
    "\n",
    "integers = []\n",
    "\n",
    "for o in ordinary_list:\n",
    "    if type(o) is int:\n",
    "        integers.append(o)\n",
    "        \n",
    "print(\"List: \" + str(ordinary_list))\n",
    "print(\"\\nSum of all integers in the list:\" , sum(integers))"
   ]
  },
  {
   "cell_type": "code",
   "execution_count": null,
   "metadata": {},
   "outputs": [],
   "source": []
  },
  {
   "cell_type": "markdown",
   "metadata": {},
   "source": [
    "5. Write a Python program to get the largest number from a numeric list. \n"
   ]
  },
  {
   "cell_type": "code",
   "execution_count": 77,
   "metadata": {},
   "outputs": [
    {
     "name": "stdout",
     "output_type": "stream",
     "text": [
      "List of numeric values: [54, 12, 38, 99, 6, 78, 46]\n",
      "\n",
      "Largest number from the list: 99\n"
     ]
    }
   ],
   "source": [
    "numericList = [54, 12, 38, 99, 6, 78, 46]\n",
    "\n",
    "print(\"List of numeric values: \" + str(numericList))\n",
    "print(\"\\nLargest number from the list: \" + str(max(numericList)))"
   ]
  },
  {
   "cell_type": "code",
   "execution_count": 76,
   "metadata": {},
   "outputs": [
    {
     "name": "stdout",
     "output_type": "stream",
     "text": [
      "How many integers would you want to enter in the list? 5\n",
      "\n",
      "Enter an integer: 45\n",
      "Enter an integer: 123\n",
      "Enter an integer: 65\n",
      "Enter an integer: 78\n",
      "Enter an integer: 95\n",
      "\n",
      "Numeric list: [45, 123, 65, 78, 95]\n",
      "\n",
      "Largest number from the list is: 123\n"
     ]
    }
   ],
   "source": [
    "length_of_list = int(input(\"How many integers would you want to enter in the list? \"))\n",
    "\n",
    "numeric_list = []\n",
    "\n",
    "print()\n",
    "\n",
    "for i in range(0, length_of_list):\n",
    "    numeric_value = int(input(\"Enter an integer: \"))\n",
    "    numeric_list.append(numeric_value)\n",
    "    \n",
    "print(\"\\nNumeric list:\" , numeric_list)\n",
    "print(\"\\nLargest number from the list is:\" , max(numeric_list))"
   ]
  },
  {
   "cell_type": "code",
   "execution_count": null,
   "metadata": {},
   "outputs": [],
   "source": []
  },
  {
   "cell_type": "markdown",
   "metadata": {},
   "source": [
    "6. Take a list, say for example this one: \n",
    "a = [1, 1, 2, 3, 5, 8, 13, 21, 34, 55, 89] \n",
    "and write a program that prints out all the elements of the list that are less than 5. \n"
   ]
  },
  {
   "cell_type": "code",
   "execution_count": 38,
   "metadata": {},
   "outputs": [
    {
     "name": "stdout",
     "output_type": "stream",
     "text": [
      "Numbers list: [1, 21, 2, 34, 5, 8, 13, 1, 55, 3, 89]\n",
      "\n",
      "Elements of the list that are less than 5: \n",
      "\n",
      "1\n",
      "2\n",
      "1\n",
      "3\n"
     ]
    }
   ],
   "source": [
    "numbers = [1, 21, 2, 34, 5, 8, 13, 1, 55, 3, 89]\n",
    "\n",
    "print(\"Numbers list:\" , numbers)\n",
    "print(\"\\nElements of the list that are less than 5: \\n\")\n",
    "\n",
    "for n in numbers:\n",
    "    if n < 5:\n",
    "        print(n)"
   ]
  },
  {
   "cell_type": "code",
   "execution_count": 95,
   "metadata": {},
   "outputs": [
    {
     "name": "stdout",
     "output_type": "stream",
     "text": [
      "\n",
      "Numbers list: [1, 21, 2, 34, 5, 8, 13, 1, 55, 3, 89]\n",
      "\n",
      "Elements of the list that are less than 5:  [1, 2, 1, 3]\n"
     ]
    }
   ],
   "source": [
    "numbers = [1, 21, 2, 34, 5, 8, 13, 1, 55, 3, 89]\n",
    "\n",
    "_ = []\n",
    "\n",
    "print()\n",
    "\n",
    "for n in numbers:\n",
    "    if n < 5:\n",
    "        _.append(n)\n",
    "        \n",
    "print(\"Numbers list:\" , numbers)\n",
    "print(\"\\nElements of the list that are less than 5: \" , _)"
   ]
  },
  {
   "cell_type": "code",
   "execution_count": null,
   "metadata": {},
   "outputs": [],
   "source": []
  }
 ],
 "metadata": {
  "kernelspec": {
   "display_name": "Python 3",
   "language": "python",
   "name": "python3"
  },
  "language_info": {
   "codemirror_mode": {
    "name": "ipython",
    "version": 3
   },
   "file_extension": ".py",
   "mimetype": "text/x-python",
   "name": "python",
   "nbconvert_exporter": "python",
   "pygments_lexer": "ipython3",
   "version": "3.7.1"
  }
 },
 "nbformat": 4,
 "nbformat_minor": 2
}
