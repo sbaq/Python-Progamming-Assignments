{
 "cells": [
  {
   "cell_type": "markdown",
   "metadata": {},
   "source": [
    "Question1: \n",
    "\n",
    "Define Object Oriented Programming Language? \n"
   ]
  },
  {
   "cell_type": "code",
   "execution_count": 23,
   "metadata": {},
   "outputs": [
    {
     "name": "stdout",
     "output_type": "stream",
     "text": [
      "OOP (Object-Oriented Programming) refers to a programming methodology based on objects, instead of\n",
      "just functions and procedures. These objects are organized into classes, which allow individual\n",
      "objects to be grouped together. The concept of OOP is focuses on creating reusable code.\n"
     ]
    }
   ],
   "source": [
    "print(\"OOP (Object-Oriented Programming) refers to a programming methodology based on objects, instead of\\njust functions and procedures. These objects are organized into classes, which allow individual\\nobjects to be grouped together. The concept of OOP is focuses on creating reusable code.\") "
   ]
  },
  {
   "cell_type": "code",
   "execution_count": null,
   "metadata": {},
   "outputs": [],
   "source": []
  },
  {
   "cell_type": "markdown",
   "metadata": {},
   "source": [
    "Question2:\n",
    "    \n",
    "List down the Benefits of OOP? \n"
   ]
  },
  {
   "cell_type": "code",
   "execution_count": 14,
   "metadata": {},
   "outputs": [
    {
     "name": "stdout",
     "output_type": "stream",
     "text": [
      "1. Development is faster and cheaper, with better software maintainability.\n",
      "2. Reusing some facilities rather than building it again and again.\n",
      "3. If a user wants a similar functionality in multiple classes he/she can go ahead by writing\n",
      "   common class definitions for the similar functionalities and inherit them.\n",
      "4. With the use of data hiding and abstraction mechanism, we are filtering out limited data to\n",
      "   exposure which means we are maintaining security and providing necessary data to view.\n"
     ]
    }
   ],
   "source": [
    "print(\"1. Development is faster and cheaper, with better software maintainability.\\n2. Reusing some facilities rather than building it again and again.\\n3. If a user wants a similar functionality in multiple classes he/she can go ahead by writing\\n   common class definitions for the similar functionalities and inherit them.\\n4. With the use of data hiding and abstraction mechanism, we are filtering out limited data to\\n   exposure which means we are maintaining security and providing necessary data to view.\")"
   ]
  },
  {
   "cell_type": "code",
   "execution_count": null,
   "metadata": {},
   "outputs": [],
   "source": []
  },
  {
   "cell_type": "markdown",
   "metadata": {},
   "source": [
    "Question3:\n",
    "    \n",
    "Differentiate between function and method? \n"
   ]
  },
  {
   "cell_type": "code",
   "execution_count": 31,
   "metadata": {},
   "outputs": [
    {
     "name": "stdout",
     "output_type": "stream",
     "text": [
      "1. Simply, function and method both look similar as they perform in almost similar way, but the key\n",
      "difference is the concept of 'Class and its Object'. Functions can be called only by its name, as it is defined independently.\n",
      "2. But methods can't be called by its name only, we need to invoke the class by a reference of that\n",
      "class in which it is defined, i.e. method is defined within a class and hence they are dependent on\n",
      "that class.\n"
     ]
    }
   ],
   "source": [
    "print(\"1. Simply, function and method both look similar as they perform in almost similar way, but the key\\ndifference is the concept of 'Class and its Object'. Functions can be called only by its name, as it is defined independently.\\n2. But methods can't be called by its name only, we need to invoke the class by a reference of that\\nclass in which it is defined, i.e. method is defined within a class and hence they are dependent on\\nthat class.\")"
   ]
  },
  {
   "cell_type": "code",
   "execution_count": null,
   "metadata": {},
   "outputs": [],
   "source": []
  },
  {
   "cell_type": "markdown",
   "metadata": {},
   "source": [
    "Question4:\n",
    "    \n",
    "Define the following terms:\n",
    "    \n",
    "Class, Object, Behaviour"
   ]
  },
  {
   "cell_type": "code",
   "execution_count": 35,
   "metadata": {},
   "outputs": [
    {
     "name": "stdout",
     "output_type": "stream",
     "text": [
      "CLASS: A class is a blueprint for the object. We can think of class as an sketch of a parrot with labels. It contains all the details about the name, colors, size etc.\n",
      "\n",
      "OBJECT: An object (instance) is an instantiation of a class. When class is defined, only the description for the object is defined. Therefore, no memory or storage is allocated.\n",
      "\n",
      "BEHAVIOUR: To define the behaviors of an object, we define methods inside the body of a class.\n"
     ]
    }
   ],
   "source": [
    "print(\"CLASS: A class is a blueprint for the object. We can think of class as an sketch of a parrot with labels. It contains all the details about the name, colors, size etc.\\n\")\n",
    "print(\"OBJECT: An object (instance) is an instantiation of a class. When class is defined, only the description for the object is defined. Therefore, no memory or storage is allocated.\\n\")\n",
    "print(\"BEHAVIOUR: To define the behaviors of an object, we define methods inside the body of a class.\")"
   ]
  },
  {
   "cell_type": "code",
   "execution_count": null,
   "metadata": {},
   "outputs": [],
   "source": []
  },
  {
   "cell_type": "markdown",
   "metadata": {},
   "source": []
  },
  {
   "cell_type": "code",
   "execution_count": null,
   "metadata": {},
   "outputs": [],
   "source": [
    "\n",
    "    "
   ]
  },
  {
   "cell_type": "code",
   "execution_count": null,
   "metadata": {},
   "outputs": [],
   "source": []
  },
  {
   "cell_type": "code",
   "execution_count": null,
   "metadata": {},
   "outputs": [],
   "source": []
  },
  {
   "cell_type": "code",
   "execution_count": null,
   "metadata": {},
   "outputs": [],
   "source": []
  },
  {
   "cell_type": "code",
   "execution_count": null,
   "metadata": {},
   "outputs": [],
   "source": []
  }
 ],
 "metadata": {
  "kernelspec": {
   "display_name": "Python 3",
   "language": "python",
   "name": "python3"
  },
  "language_info": {
   "codemirror_mode": {
    "name": "ipython",
    "version": 3
   },
   "file_extension": ".py",
   "mimetype": "text/x-python",
   "name": "python",
   "nbconvert_exporter": "python",
   "pygments_lexer": "ipython3",
   "version": "3.7.1"
  }
 },
 "nbformat": 4,
 "nbformat_minor": 2
}
