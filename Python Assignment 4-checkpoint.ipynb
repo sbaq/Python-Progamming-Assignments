{
 "cells": [
  {
   "cell_type": "markdown",
   "metadata": {},
   "source": [
    "Question1:\n",
    "\n",
    "Use a dictionary to store information about a person you know. Store their first name, last name, age, and the city in which they live. You should have keys such as first_name, last_name, age, and city. Print each piece of information stored in your dictionary. Add a new key value pair about qualification then update the qualification value to high academic level then delete it.\n"
   ]
  },
  {
   "cell_type": "code",
   "execution_count": 7,
   "metadata": {},
   "outputs": [
    {
     "name": "stdout",
     "output_type": "stream",
     "text": [
      "first_name : Talha\n",
      "last_name : Ahmed\n",
      "age : 27\n",
      "city : Karachi\n"
     ]
    }
   ],
   "source": [
    "person_info = {'first_name': 'Talha', 'last_name': 'Ahmed', 'age': 27, 'city': 'Karachi'}\n",
    "\n",
    "for key,val in person_info.items():\n",
    "    print(key, \":\", val)"
   ]
  },
  {
   "cell_type": "code",
   "execution_count": 8,
   "metadata": {},
   "outputs": [
    {
     "name": "stdout",
     "output_type": "stream",
     "text": [
      "Enter a new key to add more information about the person: qualification\n",
      "Add a value for a new key: BS Computer Science\n",
      "\n",
      "first_name : Talha\n",
      "last_name : Ahmed\n",
      "age : 27\n",
      "city : Karachi\n",
      "qualification : BS Computer Science\n"
     ]
    }
   ],
   "source": [
    "new_key = input(\"Enter a new key to add more information about the person: \")\n",
    "new_val = input(\"Add a value for a new key: \")\n",
    "\n",
    "print()\n",
    "\n",
    "person_info.update({new_key : new_val})\n",
    "\n",
    "for key,val in person_info.items():\n",
    "    print(key, \":\", val)"
   ]
  },
  {
   "cell_type": "code",
   "execution_count": 9,
   "metadata": {},
   "outputs": [
    {
     "name": "stdout",
     "output_type": "stream",
     "text": [
      "Update a value of qualification to high academic level: PhD Software Engineering\n",
      "\n",
      "first_name : Talha\n",
      "last_name : Ahmed\n",
      "age : 27\n",
      "city : Karachi\n",
      "qualification : PhD Software Engineering\n"
     ]
    }
   ],
   "source": [
    "updated_val_of_new_key = input(\"Update a value of {} to high academic level: \".format(new_key))\n",
    "\n",
    "person_info[new_key] = updated_val_of_new_key\n",
    "\n",
    "print()\n",
    "\n",
    "for key,val in person_info.items():\n",
    "    print(key, \":\", val)"
   ]
  },
  {
   "cell_type": "code",
   "execution_count": 10,
   "metadata": {},
   "outputs": [
    {
     "name": "stdout",
     "output_type": "stream",
     "text": [
      "first_name : Talha\n",
      "last_name : Ahmed\n",
      "age : 27\n",
      "city : Karachi\n"
     ]
    }
   ],
   "source": [
    "if 'qualification' in person_info:\n",
    "    del person_info['qualification']\n",
    "    \n",
    "for key,val in person_info.items():\n",
    "    print(key, \":\", val)"
   ]
  },
  {
   "cell_type": "code",
   "execution_count": null,
   "metadata": {},
   "outputs": [],
   "source": []
  },
  {
   "cell_type": "markdown",
   "metadata": {},
   "source": [
    "Question2:\n",
    "    \n",
    "Make a dictionary called cities. Use the names of three cities as keys in your dictionary. Create a dictionary of information about each city and include the country that the city is in, its approximate population, and one fact about that city. The keys for each city’s dictionary should be something like country, population, and fact. Print the name of each city and all of the information you have stored about it.\n"
   ]
  },
  {
   "cell_type": "code",
   "execution_count": 73,
   "metadata": {},
   "outputs": [],
   "source": [
    "cities = {'Karachi': karachi_info, 'Paris': paris_info, 'Rome': rome_info}\n",
    "\n",
    "karachi_info = {'country': 'Pakistan', 'population': '20 million', 'fact': \n",
    "            'Karachi Stock Exchange (KSE) is one of oldest stock exchange markets in Asia.'}\n",
    "\n",
    "paris_info = {'country': 'France', 'population': '2.14 million', 'fact': \n",
    "            'There’s only one STOP sign in the entire city.'}\n",
    "\n",
    "rome_info = {'country': 'Italy', 'population': '3 million', 'fact': \n",
    "            'Rome became the capital city of unified Italy in 1870, taking the title from Florence.'}"
   ]
  },
  {
   "cell_type": "code",
   "execution_count": 96,
   "metadata": {},
   "outputs": [
    {
     "name": "stdout",
     "output_type": "stream",
     "text": [
      "| Karachi | \n",
      "\n",
      " {'country': 'Pakistan', 'population': '20 million', 'fact': 'Karachi Stock Exchange (KSE) is one of oldest stock exchange markets in Asia.'} \n",
      "\n",
      "| Paris | \n",
      "\n",
      " {'country': 'France', 'population': '2.14 million', 'fact': 'There’s only one STOP sign in the entire city.'} \n",
      "\n",
      "| Rome | \n",
      "\n",
      " {'country': 'Italy', 'population': '3 million', 'fact': 'Rome became the capital city of unified Italy in 1870, taking the title from Florence.'} \n",
      "\n"
     ]
    }
   ],
   "source": [
    "for key,val in cities.items():\n",
    "    print(\"| {} | \\n\\n {} \\n\".format(key, val))\n",
    "    "
   ]
  },
  {
   "cell_type": "code",
   "execution_count": 83,
   "metadata": {},
   "outputs": [
    {
     "name": "stdout",
     "output_type": "stream",
     "text": [
      "Which city information would you want? paris\n",
      "\n",
      "| Paris | \n",
      "\n",
      "country : France\n",
      "population : 2.14 million\n",
      "fact : There’s only one STOP sign in the entire city.\n"
     ]
    }
   ],
   "source": [
    "city = input(\"Which city information would you want? \").title()\n",
    "\n",
    "print()\n",
    "\n",
    "if city == 'Karachi':\n",
    "    print(\"| {} | \\n\".format(city))\n",
    "    for kk,kv in karachi_info.items():\n",
    "        print(kk, ':', kv)\n",
    "    \n",
    "elif city == 'Paris':\n",
    "    print(\"| {} | \\n\".format(city))\n",
    "    for pk,pv in paris_info.items():\n",
    "        print(pk, ':', pv)\n",
    "\n",
    "elif city == 'Rome':\n",
    "    print(\"| {} | \\n\".format(city))\n",
    "    for rk,rv in rome_info.items():\n",
    "        print(rk, ':', rv)\n",
    "        \n",
    "else:\n",
    "    print(\"City not found.\")"
   ]
  },
  {
   "cell_type": "code",
   "execution_count": null,
   "metadata": {},
   "outputs": [],
   "source": []
  },
  {
   "cell_type": "markdown",
   "metadata": {},
   "source": [
    "Question3:\n",
    "\n",
    "A movie theater charges different ticket prices depending on a person’s age. If a person is under the age of 3, the ticket is free; if they are between 3 and 12, the ticket is 10 and if they are over age 12 the ticket is $15. Write a loop in which you ask users their age, and then tell them the cost of their movie ticket.\n"
   ]
  },
  {
   "cell_type": "code",
   "execution_count": 102,
   "metadata": {},
   "outputs": [
    {
     "name": "stdout",
     "output_type": "stream",
     "text": [
      "Enter age to check the ticket price of a movie theater: 9\n",
      "\n",
      "The ticket price is $10.\n"
     ]
    }
   ],
   "source": [
    "person_age = int(input(\"Enter age to check the ticket price of a movie theater: \"))\n",
    "\n",
    "if person_age < 3:\n",
    "    print(\"\\nThe ticket is free.\")\n",
    "elif person_age >= 3 and person_age <= 12:\n",
    "    print(\"\\nThe ticket price is $10.\")\n",
    "else:\n",
    "    print(\"\\nThe ticket price is $15.\")"
   ]
  },
  {
   "cell_type": "code",
   "execution_count": null,
   "metadata": {},
   "outputs": [],
   "source": []
  },
  {
   "cell_type": "markdown",
   "metadata": {},
   "source": [
    "Question4:\n",
    "    \n",
    "Write a function called favorite_book() that accepts one parameter, title. The function should print a message, such as One of my favorite books is Alice in Wonderland. Call the function, making sure to include a book title as an argument in the function call.\n"
   ]
  },
  {
   "cell_type": "code",
   "execution_count": 14,
   "metadata": {},
   "outputs": [],
   "source": [
    "def favourite_book(book_title):\n",
    "    print(\"One of my favourite books is {} in Wonderland.\".format(book_title))\n",
    "    "
   ]
  },
  {
   "cell_type": "code",
   "execution_count": 16,
   "metadata": {},
   "outputs": [
    {
     "name": "stdout",
     "output_type": "stream",
     "text": [
      "One of my favourite books is 'The Looking Glass Wars' in Wonderland.\n"
     ]
    }
   ],
   "source": [
    "favourite_book(\"'The Looking Glass Wars'\")"
   ]
  },
  {
   "cell_type": "code",
   "execution_count": null,
   "metadata": {},
   "outputs": [],
   "source": []
  },
  {
   "cell_type": "markdown",
   "metadata": {},
   "source": [
    "Question5:\n",
    "    \n",
    "Guess the number game\n",
    "Write a program which randomly generate a number between 1 to 30 and ask the user in input field to guess the correct number. Give three chances to user guess the number and also give hint to user if hidden number is greater or smaller than the number he given to input field.\n"
   ]
  },
  {
   "cell_type": "code",
   "execution_count": 5,
   "metadata": {},
   "outputs": [],
   "source": [
    "import random\n",
    "\n",
    "hidden_num = random.randint(1,30)"
   ]
  },
  {
   "cell_type": "code",
   "execution_count": 13,
   "metadata": {},
   "outputs": [
    {
     "name": "stdout",
     "output_type": "stream",
     "text": [
      "\n",
      "Enter an integer from 1 to 30 to guess the hidden number: 8\n",
      "\n",
      "Hint: 8 is greater than hidden number.\n",
      "\n",
      "Enter an integer from 1 to 30 to guess the hidden number: 5\n",
      "\n",
      "Hint: 5 is smaller than hidden number.\n",
      "\n",
      "Enter an integer from 1 to 30 to guess the hidden number: 4\n",
      "\n",
      "Hint: 4 is smaller than hidden number.\n",
      "\n",
      "Sorry! You have no more chance to guess the number. The hidden number is: 6\n"
     ]
    }
   ],
   "source": [
    "guess_chances = 3\n",
    "\n",
    "keep_playing = True\n",
    "\n",
    "while keep_playing == True :\n",
    "\n",
    "    guess_num = int(input(\"\\nEnter an integer from 1 to 30 to guess the hidden number: \"))\n",
    "    \n",
    "    guess_chances = guess_chances - 1\n",
    "\n",
    "    if guess_num > hidden_num:\n",
    "        print(\"\\nHint: {} is greater than hidden number.\".format(guess_num))\n",
    "        \n",
    "        if guess_chances == 0:\n",
    "            print(\"\\nSorry! You have no more chance to guess the number. The hidden number is:\", \n",
    "                  hidden_num)\n",
    "\n",
    "            keep_playing = False\n",
    "\n",
    "    elif guess_num < hidden_num:\n",
    "        print(\"\\nHint: {} is smaller than hidden number.\".format(guess_num))\n",
    "        \n",
    "        if guess_chances == 0:\n",
    "            print(\"\\nSorry! You have no more chance to guess the number. The hidden number is:\", \n",
    "                  hidden_num)\n",
    "            keep_playing = False\n",
    "\n",
    "    else:\n",
    "        print(\"\\nWinner! You guessed right!\\nGuess number '{}' is same as the hidden number '{}'.\".\n",
    "              format(guess_num, hidden_num))\n",
    "        keep_playing = False"
   ]
  },
  {
   "cell_type": "code",
   "execution_count": null,
   "metadata": {},
   "outputs": [],
   "source": []
  },
  {
   "cell_type": "code",
   "execution_count": null,
   "metadata": {},
   "outputs": [],
   "source": []
  },
  {
   "cell_type": "code",
   "execution_count": null,
   "metadata": {},
   "outputs": [],
   "source": []
  },
  {
   "cell_type": "code",
   "execution_count": null,
   "metadata": {},
   "outputs": [],
   "source": []
  },
  {
   "cell_type": "code",
   "execution_count": null,
   "metadata": {},
   "outputs": [],
   "source": []
  }
 ],
 "metadata": {
  "kernelspec": {
   "display_name": "Python 3",
   "language": "python",
   "name": "python3"
  },
  "language_info": {
   "codemirror_mode": {
    "name": "ipython",
    "version": 3
   },
   "file_extension": ".py",
   "mimetype": "text/x-python",
   "name": "python",
   "nbconvert_exporter": "python",
   "pygments_lexer": "ipython3",
   "version": "3.7.1"
  }
 },
 "nbformat": 4,
 "nbformat_minor": 2
}
